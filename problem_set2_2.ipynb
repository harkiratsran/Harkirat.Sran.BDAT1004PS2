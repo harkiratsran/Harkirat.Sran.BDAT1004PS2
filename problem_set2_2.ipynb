{
 "cells": [
  {
   "cell_type": "markdown",
   "metadata": {},
   "source": [
    "Question 1\n",
    "What value is displayed when the last_list esome_intpression (a) is evaluated? Esome_intplain your answer by indicating what happens in every executed statement ?"
   ]
  },
  {
   "cell_type": "code",
   "execution_count": 8,
   "metadata": {},
   "outputs": [],
   "source": [
    "a=0 #creating a variable a with value 0\n",
    "def b(): #define function b\n",
    "    global a #creating a global variable a \n",
    "    a = c(a) #calling a function c and passing a as argument\n",
    "\n",
    "def c(a): #creating a function c\n",
    "    return a + 2 #returning value of a + 2, here a is local for function c"
   ]
  },
  {
   "cell_type": "code",
   "execution_count": 9,
   "metadata": {},
   "outputs": [
    {
     "name": "stdout",
     "output_type": "stream",
     "text": [
      "Final Value of variable 'a' after certain iterations:  6\n"
     ]
    }
   ],
   "source": [
    "b()     #calls the function b() for the first time with initial value of a=0 which returns value of a to 2\n",
    "b()     #calls the function b() for the second time with new value of a=2  which returns value of a to 4\n",
    "b()     #calls the function b() for the third time with latest value pf a=4 which returns value of a to 6\n",
    "print(\"Final Value of variable 'a' after certain iterations: \", a) #stores the latest updated value of a\n"
   ]
  },
  {
   "cell_type": "markdown",
   "metadata": {},
   "source": [
    "Question 2\n",
    " \n",
    "Function fileLength(), given to you, takes the name of a file as input and returns the length of the file:"
   ]
  },
  {
   "cell_type": "code",
   "execution_count": 10,
   "metadata": {},
   "outputs": [],
   "source": [
    "def file_length(file_name):\n",
    "    file = open(file_name)\n",
    "    contents = file.read()\n",
    "    file.close()\n",
    "    print(len(contents))"
   ]
  },
  {
   "cell_type": "code",
   "execution_count": 11,
   "metadata": {},
   "outputs": [
    {
     "name": "stdout",
     "output_type": "stream",
     "text": [
      "3140\n"
     ]
    }
   ],
   "source": [
    "file_length('data_programming_quiz_3.py')"
   ]
  },
  {
   "cell_type": "code",
   "execution_count": 12,
   "metadata": {},
   "outputs": [
    {
     "ename": "FileNotFoundError",
     "evalue": "[Errno 2] No such file or directory: 'mid_term.py'",
     "output_type": "error",
     "traceback": [
      "\u001b[0;31m---------------------------------------------------------------------------\u001b[0m",
      "\u001b[0;31mFileNotFoundError\u001b[0m                         Traceback (most recent call last)",
      "Cell \u001b[0;32mIn [12], line 1\u001b[0m\n\u001b[0;32m----> 1\u001b[0m file_length(\u001b[39m'\u001b[39;49m\u001b[39mmid_term.py\u001b[39;49m\u001b[39m'\u001b[39;49m)\n",
      "Cell \u001b[0;32mIn [10], line 2\u001b[0m, in \u001b[0;36mfile_length\u001b[0;34m(file_name)\u001b[0m\n\u001b[1;32m      1\u001b[0m \u001b[39mdef\u001b[39;00m \u001b[39mfile_length\u001b[39m(file_name):\n\u001b[0;32m----> 2\u001b[0m     file \u001b[39m=\u001b[39m \u001b[39mopen\u001b[39;49m(file_name)\n\u001b[1;32m      3\u001b[0m     contents \u001b[39m=\u001b[39m file\u001b[39m.\u001b[39mread()\n\u001b[1;32m      4\u001b[0m     file\u001b[39m.\u001b[39mclose()\n",
      "File \u001b[0;32m~/Library/Python/3.10/lib/python/site-packages/IPython/core/interactiveshell.py:282\u001b[0m, in \u001b[0;36m_modified_open\u001b[0;34m(file, *args, **kwargs)\u001b[0m\n\u001b[1;32m    275\u001b[0m \u001b[39mif\u001b[39;00m file \u001b[39min\u001b[39;00m {\u001b[39m0\u001b[39m, \u001b[39m1\u001b[39m, \u001b[39m2\u001b[39m}:\n\u001b[1;32m    276\u001b[0m     \u001b[39mraise\u001b[39;00m \u001b[39mValueError\u001b[39;00m(\n\u001b[1;32m    277\u001b[0m         \u001b[39mf\u001b[39m\u001b[39m\"\u001b[39m\u001b[39mIPython won\u001b[39m\u001b[39m'\u001b[39m\u001b[39mt let you open fd=\u001b[39m\u001b[39m{\u001b[39;00mfile\u001b[39m}\u001b[39;00m\u001b[39m by default \u001b[39m\u001b[39m\"\u001b[39m\n\u001b[1;32m    278\u001b[0m         \u001b[39m\"\u001b[39m\u001b[39mas it is likely to crash IPython. If you know what you are doing, \u001b[39m\u001b[39m\"\u001b[39m\n\u001b[1;32m    279\u001b[0m         \u001b[39m\"\u001b[39m\u001b[39myou can use builtins\u001b[39m\u001b[39m'\u001b[39m\u001b[39m open.\u001b[39m\u001b[39m\"\u001b[39m\n\u001b[1;32m    280\u001b[0m     )\n\u001b[0;32m--> 282\u001b[0m \u001b[39mreturn\u001b[39;00m io_open(file, \u001b[39m*\u001b[39;49margs, \u001b[39m*\u001b[39;49m\u001b[39m*\u001b[39;49mkwargs)\n",
      "\u001b[0;31mFileNotFoundError\u001b[0m: [Errno 2] No such file or directory: 'mid_term.py'"
     ]
    }
   ],
   "source": [
    "file_length('mid_term.py')"
   ]
  },
  {
   "cell_type": "code",
   "execution_count": 13,
   "metadata": {},
   "outputs": [],
   "source": [
    "#modification to implement try except\n",
    "def file_length(file_name):\n",
    "    try:\n",
    "        file = open(file_name)\n",
    "        contents = file.read()\n",
    "        file.close()\n",
    "        print(len(contents))\n",
    "    except Exception as excep_err:\n",
    "        print(excep_err)"
   ]
  },
  {
   "cell_type": "code",
   "execution_count": 15,
   "metadata": {},
   "outputs": [
    {
     "name": "stdout",
     "output_type": "stream",
     "text": [
      "3140\n"
     ]
    }
   ],
   "source": [
    "file_length('data_programming_quiz_3.py')"
   ]
  },
  {
   "cell_type": "code",
   "execution_count": 16,
   "metadata": {},
   "outputs": [
    {
     "name": "stdout",
     "output_type": "stream",
     "text": [
      "[Errno 2] No such file or directory: 'daa_programming_quiz_3.py'\n"
     ]
    }
   ],
   "source": [
    "file_length('daa_programming_quiz_3.py')"
   ]
  },
  {
   "cell_type": "markdown",
   "metadata": {},
   "source": [
    "Question 3\n",
    "\n",
    "Write a class named Marsupial that can be used as shown below:\n",
    "\n",
    ">>> m = Marsupial()\n",
    ">>> m.put_in_pouch('doll')\n",
    ">>> m.put_in_pouch('firetruck')\n",
    ">>> m.put_in_pouch('kitten')\n",
    ">>> m.pouch_contents()\n",
    "['doll', 'firetruck', 'kitten']\n",
    "\n",
    "Now write a class named Kangaroo as a subclass of Marsupial that inherits all the attributes of Marsupial and also: \n",
    "a. extends the Marsupial init constructor to take, as input, the coordinates x and y of the Kangaroo object\n",
    "b. supports method jump that takes number values dx and dy as input and moves the kangaroo by dx units along the x-axis and by dy units along the yaxis\n",
    "c. overloads the str operator so it behaves as shown below.\n",
    "\n",
    ">>> k = Kangaroo(0,0)\n",
    ">>> print(k)\n",
    "I am a Kangaroo located at coordinates (0,0)\n",
    ">>> k.put_in_pouch('doll')\n",
    ">>> k.put_in_pouch('firetruck')\n",
    ">>> k.put_in_pouch('kitten')\n",
    ">>> k.pouch_contents()\n",
    "['doll', 'firetruck', 'kitten']\n",
    ">>> k.jump(1,0)\n",
    ">>> k.jump(1,0)\n",
    ">>> k.jump(1,0)\n",
    ">>> print(k)\n",
    "I am a Kangaroo located at coordinates (3,0)"
   ]
  },
  {
   "cell_type": "code",
   "execution_count": 18,
   "metadata": {},
   "outputs": [
    {
     "name": "stdout",
     "output_type": "stream",
     "text": [
      "class Marsupial contains : ['doll', 'firetruck', 'kitten'] \n",
      "\n",
      "I am a Kangaroo located at coordinates (0,0)\n",
      "\n",
      "subclass kangaroo contains :  ['doll', 'firetruck', 'kitten', 'doll', 'firetruck', 'kitten'] \n",
      "\n",
      "I am a Kangaroo located at coordinates (3,0)\n",
      "\n"
     ]
    }
   ],
   "source": [
    "class Marsupial:\n",
    "    last_list=[]\n",
    "    def init(self): \n",
    "        self.last_list = []\n",
    "        \n",
    "    #Add to list\n",
    "    def put_in_pouch(self, item):\n",
    "        self.last_list.append(item)\n",
    "        \n",
    "    #Return List\n",
    "    def pouch_contents(self):\n",
    "        return self.last_list\n",
    "\n",
    "class Kangaroo(Marsupial):\n",
    "\n",
    "    def __init__(self,x,y):\n",
    "\n",
    "            Marsupial.__init__(self)\n",
    "\n",
    "            self.x = x\n",
    "\n",
    "            self.y = y\n",
    "\n",
    "    def jump(self,dx,dy):\n",
    "\n",
    "        self.x += dx\n",
    "\n",
    "        self.y += dy\n",
    "\n",
    "    def __str__(self):\n",
    "\n",
    "        return 'I am a Kangaroo located at coordinates ({},{})'.format(self.x,self.y)+'\\n'\n",
    "\n",
    "m = Marsupial() \n",
    "m.put_in_pouch('doll') \n",
    "m.put_in_pouch('firetruck') \n",
    "m.put_in_pouch('kitten') \n",
    "print(\"Class Marsupial contains :\", m.pouch_contents(),\"\\n\")\n",
    "\n",
    "k = Kangaroo(0,0) \n",
    "print(k) \n",
    "k.put_in_pouch('doll')\n",
    "k.put_in_pouch('firetruck') \n",
    "k.put_in_pouch('kitten') \n",
    "print(\"Subclass kangaroo contains : \", k.pouch_contents(),\"\\n\") \n",
    "k.jump(1,0) \n",
    "k.jump(1,0)\n",
    "k.jump(1,0)\n",
    "print(k)"
   ]
  },
  {
   "cell_type": "markdown",
   "metadata": {},
   "source": [
    "Question 4\n",
    "\n",
    "Write function collatz() that takes a positive integer x as input and prints the Collatz sequence starting at x. A Collatz sequence is obtained by repeatedly applying this rule to the previous number x in the sequence: x = { 𝑥/2 𝑖𝑓 𝑥 𝑖𝑠 𝑒𝑣𝑒𝑛 3𝑥 + 1 𝑖𝑓 𝑥 𝑖𝑠 𝑜𝑑𝑑 Your function should stop when the sequence gets to number 1. Your implementation must be recursive, without any loops.\n"
   ]
  },
  {
   "cell_type": "code",
   "execution_count": 5,
   "metadata": {},
   "outputs": [],
   "source": [
    "def collatz(some_int):\n",
    "    print(some_int)\n",
    "    if some_int==1:\n",
    "        return True\n",
    "    elif some_int%2==0:\n",
    "        return collatz(some_int//2)  #call method recursively\n",
    "    else:\n",
    "        return collatz((some_int*3)+1)  #call method recursively"
   ]
  },
  {
   "cell_type": "code",
   "execution_count": 6,
   "metadata": {},
   "outputs": [
    {
     "name": "stdout",
     "output_type": "stream",
     "text": [
      "81\n",
      "244\n",
      "122\n",
      "61\n",
      "184\n",
      "92\n",
      "46\n",
      "23\n",
      "70\n",
      "35\n",
      "106\n",
      "53\n",
      "160\n",
      "80\n",
      "40\n",
      "20\n",
      "10\n",
      "5\n",
      "16\n",
      "8\n",
      "4\n",
      "2\n",
      "1\n"
     ]
    },
    {
     "data": {
      "text/plain": [
       "True"
      ]
     },
     "execution_count": 6,
     "metadata": {},
     "output_type": "execute_result"
    }
   ],
   "source": [
    "collatz(some_int=81)"
   ]
  },
  {
   "cell_type": "markdown",
   "metadata": {},
   "source": [
    "Question 5\n",
    "\n",
    "Write a recursive method binary() that takes a non-negative integer n and prints the binary representation of integer n.\n",
    "\n",
    "'>>>' binary(0)\n",
    "\n",
    "0\n",
    "\n",
    "'>>>' binary(1)\n",
    "\n",
    "1\n",
    "\n",
    "'>>>' binary(3)\n",
    "\n",
    "11\n",
    "\n",
    "'>>>' binary(9)\n",
    "\n",
    "1001"
   ]
  },
  {
   "cell_type": "code",
   "execution_count": 7,
   "metadata": {},
   "outputs": [],
   "source": [
    "def binary(non_neg_int):\n",
    "    if non_neg_int == 0:\n",
    "        return 0\n",
    "    else:\n",
    "        return  non_neg_int % 2 + 10 * binary(int(non_neg_int // 2))"
   ]
  },
  {
   "cell_type": "code",
   "execution_count": 8,
   "metadata": {},
   "outputs": [
    {
     "data": {
      "text/plain": [
       "0"
      ]
     },
     "execution_count": 8,
     "metadata": {},
     "output_type": "execute_result"
    }
   ],
   "source": [
    "binary(0)"
   ]
  },
  {
   "cell_type": "code",
   "execution_count": 9,
   "metadata": {},
   "outputs": [
    {
     "data": {
      "text/plain": [
       "1"
      ]
     },
     "execution_count": 9,
     "metadata": {},
     "output_type": "execute_result"
    }
   ],
   "source": [
    "binary(1)"
   ]
  },
  {
   "cell_type": "code",
   "execution_count": 10,
   "metadata": {},
   "outputs": [
    {
     "data": {
      "text/plain": [
       "11"
      ]
     },
     "execution_count": 10,
     "metadata": {},
     "output_type": "execute_result"
    }
   ],
   "source": [
    "binary(3)"
   ]
  },
  {
   "cell_type": "code",
   "execution_count": 11,
   "metadata": {},
   "outputs": [
    {
     "data": {
      "text/plain": [
       "1001"
      ]
     },
     "execution_count": 11,
     "metadata": {},
     "output_type": "execute_result"
    }
   ],
   "source": [
    "binary(9)"
   ]
  },
  {
   "cell_type": "markdown",
   "metadata": {},
   "source": [
    "Question 6:\n",
    "\n",
    "Implement a class named HeadingParser that can be used to parse an HTML document, and retrieve and print all the headings in the document. You should implement your class as a subclass of HTMLParser, defined in Standard Library module html.parser. When fed a string containing HTML code, your class should print the headings, one per line and in the order in which they appear in the document. Each heading should be indented as follows: an h1 heading should have indentation 0, and h2 heading should have indentation 1, etc. Test your implementation using w3c.html.\n",
    "\n",
    "\\>>> infile = open('w3c.html')\n",
    "\n",
    "\\>>> content = infile.read()\n",
    "\n",
    "\\>>> infile.close()\n",
    "\n",
    "\\>>> hp = HeadingParser()\n",
    "\n",
    "\\>>> hp.feed(content)\n",
    "\n",
    "W3C Mission\n",
    "Principles"
   ]
  },
  {
   "cell_type": "code",
   "execution_count": 14,
   "metadata": {},
   "outputs": [
    {
     "name": "stdout",
     "output_type": "stream",
     "text": [
      "['W3C Mission', 'Principles']\n"
     ]
    }
   ],
   "source": [
    "from html.parser import HTMLParser\n",
    "\n",
    "html_file = open(\"w3c.html\", \"r\")\n",
    "content = html_file.read()\n",
    "html_file.close()\n",
    "\n",
    "class headingParser(HTMLParser):\n",
    "\n",
    "    def __init__(self):\n",
    "        super().__init__()\n",
    "        self.data = []\n",
    "        self.capture = False\n",
    "\n",
    "    def handle_starttag(self, tag, attrs):\n",
    "        if tag in ('p', 'h1'):\n",
    "            self.capture = True\n",
    "        elif tag in ('p', 'h2'):\n",
    "            self.capture = True\n",
    "        \n",
    "    def handle_endtag(self, tag):\n",
    "        if tag in ('p', 'h1'):\n",
    "            self.capture = False\n",
    "        elif tag in ('p', 'h2'):\n",
    "            self.capture = False\n",
    "\n",
    "    def handle_data(self, data):\n",
    "        if self.capture:\n",
    "            self.data.append(data)\n",
    "\n",
    "parser = headingParser()\n",
    "parser.feed(content)\n",
    "\n",
    "print(parser.data)\n"
   ]
  },
  {
   "cell_type": "markdown",
   "metadata": {},
   "source": [
    "Question 7\n",
    "\n",
    "Implement recursive function webdir() that takes as input: a URL (as a string) and non-negative integers depth and indent. Your function should visit every web page reachable from the starting URL web page in depth clicks or less, and print each web page's URL. As shown below, indentation, specified by indent, should be used to indicate the depth of a URL.#"
   ]
  },
  {
   "cell_type": "code",
   "execution_count": 22,
   "metadata": {},
   "outputs": [
    {
     "name": "stdout",
     "output_type": "stream",
     "text": [
      "http://reed.cs.depaul.edu/lperkovic/test1.html\n"
     ]
    }
   ],
   "source": [
    "import requests\n",
    "\n",
    "from bs4 import BeautifulSoup   \n",
    "\n",
    "def webdir(url, depth, indent):\n",
    "    res_obj = requests.get(url)\n",
    "    print(url)\n",
    "    if(depth == indent):\n",
    "        return\n",
    "    page_soup_obj = BeautifulSoup(res_obj.text)  \n",
    "    for link in page_soup_obj.findAll('a'):\n",
    "        new_link = link.get('href')\n",
    "        if(new_link.startswith('https')):\n",
    "            webdir(new_link, depth, indent+1)\n",
    "\n",
    "webdir('http://reed.cs.depaul.edu/lperkovic/test1.html', 4, 1)"
   ]
  },
  {
   "cell_type": "markdown",
   "metadata": {},
   "source": [
    "Question 8: Write SQL queries on the below database table that return:\n",
    "\n",
    "a) All the temperature data.\n",
    "b) All the cities, but without repetition.\n",
    "c) All the records for India.\n",
    "d) All the Fall records.\n",
    "e) The city, country, and season for which the average rainfall is between 200 and 400 millimeters.\n",
    "f) The city and country for which the average Fall temperature is above 20 degrees, in increasing temperature order.\n",
    "g) The total annual rainfall for Cairo.\n",
    "h) The total rainfall for each season."
   ]
  },
  {
   "cell_type": "code",
   "execution_count": 1,
   "metadata": {},
   "outputs": [],
   "source": [
    "import sqlite3\n",
    "from itertools import starmap\n",
    "from json import dumps\n",
    "\n",
    "def return_conn_tup_sqlite_table(db_file_name: str, check_same_thread: bool = True):\n",
    "    \"\"\"\n",
    "        Returns the connection & cursor object tuple corresponding to either existing or new db file.\n",
    "        :param str db_file_name: Sqlite db file name to connect to/or one which we want to create.\n",
    "        :return: Return the connection & cursor object for db file connected.\n",
    "        :rtype: tuple[Connection, Cursor]\n",
    "    \"\"\"\n",
    "    conn_sql_lite = sqlite3.connect(db_file_name, check_same_thread=check_same_thread)\n",
    "    cur_sql_lite = conn_sql_lite.cursor()\n",
    "\n",
    "    return conn_sql_lite, cur_sql_lite\n",
    "\n",
    "\n",
    "def sqlite_fetch_query(\n",
    "        table_name: str, limit: int = 100,\n",
    "        fetch_status: str = \"PENDING\",\n",
    "        custom_sel_query_dict: dict = {}\n",
    "    ):\n",
    "    \"\"\"\n",
    "        Return a simple sql select fetch query depending on limit & fetch status provided.\n",
    "        Internal method used by fetch_sqlite_rows function.\n",
    "        :param str table_name: Sqlite table name from which to fetch rows from.\n",
    "        :param int limit: Limit of rows to be fetched. Pass -1 to fetch all rows.\n",
    "        :param str fetch_status: Status of rows to fetch. Defaults to PENDING.\n",
    "        :param dict custom_sel_query_dict: Dict to make a custom where clause based on key value pair. Defaults to {}\n",
    "        :return: Return a simple sql select query.\n",
    "        :rtype: str\n",
    "    \"\"\"\n",
    "    sel_query = f\"\"\"select * from {table_name} where\n",
    "                                    status='{fetch_status}' \"\"\"\n",
    "\n",
    "    if bool(custom_sel_query_dict):\n",
    "        extra_consraint_str =' and '.join(list(starmap(\"{} = '{}'\".format, custom_sel_query_dict.items())))\n",
    "        sel_query = sel_query + f\"\"\" and {extra_consraint_str} \"\"\"\n",
    "\n",
    "    if limit is not None and limit:\n",
    "        sel_query = sel_query + f\"\"\" limit {limit}\"\"\"\n",
    "\n",
    "    return sel_query\n",
    "\n",
    "\n",
    "\n",
    "\n"
   ]
  },
  {
   "cell_type": "code",
   "execution_count": 2,
   "metadata": {},
   "outputs": [],
   "source": [
    "def create_sqlite_table(conn_cur_sql_lite):\n",
    "    '''\n",
    "    Creates the sqllite table.\n",
    "    '''\n",
    "\n",
    "    try:\n",
    "        sql_table_query = (\n",
    "            f'''CREATE TABLE IF NOT EXISTS weatherTable (\n",
    "                    city varchar,\n",
    "                    Country varchar,\n",
    "                    Season varchar,\n",
    "                    Temperature varchar,\n",
    "                    Rainfall varchar\n",
    "                    );\n",
    "                    '''\n",
    "        )\n",
    "\n",
    "        conn_cur_sql_lite[1].execute(sql_table_query)\n",
    "        conn_cur_sql_lite[0].commit()\n",
    "\n",
    "    except Exception as excep_err:\n",
    "        print(excep_err)\n",
    "        print(\"Inside table create exception.\")\n",
    "        raise excep_err\n"
   ]
  },
  {
   "cell_type": "code",
   "execution_count": 3,
   "metadata": {},
   "outputs": [],
   "source": [
    "sqlite_conn_cur_tup = return_conn_tup_sqlite_table(\n",
    "        \"some_db\"\n",
    "    )"
   ]
  },
  {
   "cell_type": "code",
   "execution_count": 4,
   "metadata": {},
   "outputs": [],
   "source": [
    "create_sqlite_table(sqlite_conn_cur_tup)"
   ]
  },
  {
   "cell_type": "code",
   "execution_count": 5,
   "metadata": {},
   "outputs": [],
   "source": [
    "sqlite_insert_stmt = \"insert into weatherTable values('Mumbai','India', 'Winter','24.8', '5.9');\"\n",
    "sqlite_conn_cur_tup[1].execute(sqlite_insert_stmt)\n",
    "sqlite_insert_stmt = \"insert into weatherTable values('Mumbai','India', 'Spring','28.4', '16.2');\"\n",
    "sqlite_conn_cur_tup[1].execute(sqlite_insert_stmt)\n",
    "sqlite_insert_stmt = \"insert into weatherTable values('Mumbai','India', 'Summer','27.9', '1549.4');\"\n",
    "sqlite_conn_cur_tup[1].execute(sqlite_insert_stmt)\n",
    "sqlite_insert_stmt = \"insert into weatherTable values('Mumbai','India', 'Fall','27.6', '346.0');\"\n",
    "sqlite_conn_cur_tup[1].execute(sqlite_insert_stmt)\n",
    "sqlite_insert_stmt = \"insert into weatherTable values('London','United Kingdom', 'Winter','4.2', '207.7');\"\n",
    "sqlite_conn_cur_tup[1].execute(sqlite_insert_stmt)\n",
    "sqlite_insert_stmt = \"insert into weatherTable values('London','United Kingdom', 'Spring','8.3', '169.6');\"\n",
    "sqlite_conn_cur_tup[1].execute(sqlite_insert_stmt)\n",
    "sqlite_insert_stmt = \"insert into weatherTable values('London','United Kingdom', 'Summer','15.7', '157.0');\"\n",
    "sqlite_conn_cur_tup[1].execute(sqlite_insert_stmt)\n",
    "sqlite_insert_stmt = \"insert into weatherTable values('London','United Kingdom', 'Fall','10.4', '218.5');\"\n",
    "sqlite_conn_cur_tup[1].execute(sqlite_insert_stmt)\n",
    "sqlite_insert_stmt = \"insert into weatherTable values('Cairo','Egypt', 'Winter','13.6', '16.5');\"\n",
    "sqlite_conn_cur_tup[1].execute(sqlite_insert_stmt)\n",
    "sqlite_insert_stmt = \"insert into weatherTable values('Cairo','Egypt', 'Spring','20.7', '6.5');\"\n",
    "sqlite_conn_cur_tup[1].execute(sqlite_insert_stmt)\n",
    "sqlite_insert_stmt = \"insert into weatherTable values('Cairo','Egypt', 'Summer','27.7', '0.1');\"\n",
    "sqlite_conn_cur_tup[1].execute(sqlite_insert_stmt)\n",
    "sqlite_insert_stmt = \"insert into weatherTable values('Cairo','Egypt', 'Fall','22.2', '4.5');\"\n",
    "sqlite_conn_cur_tup[1].execute(sqlite_insert_stmt)\n",
    "\n",
    "\n",
    "sqlite_conn_cur_tup[0].commit()\n"
   ]
  },
  {
   "cell_type": "code",
   "execution_count": 13,
   "metadata": {},
   "outputs": [
    {
     "name": "stdout",
     "output_type": "stream",
     "text": [
      "('22.2',)('24.8',)('28.4',)('27.9',)('27.6',)('4.2',)('8.3',)('15.7',)('10.4',)('13.6',)('20.7',)('27.7',)('22.2',)('22.2',)('22.2',)('22.2',)('24.8',)('28.4',)('27.9',)('27.6',)('4.2',)('8.3',)('15.7',)('10.4',)('13.6',)('20.7',)('27.7',)('22.2',)('24.8',)('28.4',)('27.9',)('27.6',)('4.2',)('8.3',)('15.7',)('10.4',)('13.6',)('20.7',)('27.7',)('22.2',)('24.8',)('28.4',)('27.9',)('27.6',)('4.2',)('8.3',)('15.7',)('10.4',)('13.6',)('20.7',)('27.7',)('22.2',)('24.8',)('28.4',)('27.9',)('27.6',)('4.2',)('8.3',)('15.7',)('10.4',)('13.6',)('20.7',)('27.7',)('22.2',)('22.2',)('24.8',)('28.4',)('27.9',)('27.6',)('4.2',)('8.3',)('15.7',)('10.4',)('13.6',)('20.7',)('27.7',)('22.2',)('24.8',)('28.4',)('27.9',)('27.6',)('4.2',)('8.3',)('15.7',)('10.4',)('13.6',)('20.7',)('27.7',)('22.2',)('24.8',)('28.4',)('27.9',)('27.6',)('4.2',)('8.3',)('15.7',)('10.4',)('13.6',)('20.7',)('27.7',)('22.2',)('24.8',)('28.4',)('27.9',)('27.6',)('4.2',)('8.3',)('15.7',)('10.4',)('13.6',)('20.7',)('27.7',)('22.2',)('22.2',)\n",
      "('Cairo',)('Mumbai',)('London',)\n",
      "('Mumbai', 'India', 'Winter', '24.8', '5.9')('Mumbai', 'India', 'Spring', '28.4', '16.2')('Mumbai', 'India', 'Summer', '27.9', '1549.4')('Mumbai', 'India', 'Fall', '27.6', '346.0')('Mumbai', 'India', 'Winter', '24.8', '5.9')('Mumbai', 'India', 'Spring', '28.4', '16.2')('Mumbai', 'India', 'Summer', '27.9', '1549.4')('Mumbai', 'India', 'Fall', '27.6', '346.0')('Mumbai', 'India', 'Winter', '24.8', '5.9')('Mumbai', 'India', 'Spring', '28.4', '16.2')('Mumbai', 'India', 'Summer', '27.9', '1549.4')('Mumbai', 'India', 'Fall', '27.6', '346.0')('Mumbai', 'India', 'Winter', '24.8', '5.9')('Mumbai', 'India', 'Spring', '28.4', '16.2')('Mumbai', 'India', 'Summer', '27.9', '1549.4')('Mumbai', 'India', 'Fall', '27.6', '346.0')('Mumbai', 'India', 'Winter', '24.8', '5.9')('Mumbai', 'India', 'Spring', '28.4', '16.2')('Mumbai', 'India', 'Summer', '27.9', '1549.4')('Mumbai', 'India', 'Fall', '27.6', '346.0')('Mumbai', 'India', 'Winter', '24.8', '5.9')('Mumbai', 'India', 'Spring', '28.4', '16.2')('Mumbai', 'India', 'Summer', '27.9', '1549.4')('Mumbai', 'India', 'Fall', '27.6', '346.0')('Mumbai', 'India', 'Winter', '24.8', '5.9')('Mumbai', 'India', 'Spring', '28.4', '16.2')('Mumbai', 'India', 'Summer', '27.9', '1549.4')('Mumbai', 'India', 'Fall', '27.6', '346.0')('Mumbai', 'India', 'Winter', '24.8', '5.9')('Mumbai', 'India', 'Spring', '28.4', '16.2')('Mumbai', 'India', 'Summer', '27.9', '1549.4')('Mumbai', 'India', 'Fall', '27.6', '346.0')('Mumbai', 'India', 'Winter', '24.8', '5.9')('Mumbai', 'India', 'Spring', '28.4', '16.2')('Mumbai', 'India', 'Summer', '27.9', '1549.4')('Mumbai', 'India', 'Fall', '27.6', '346.0')\n",
      "('Cairo', 'Egypt', 'Fall', '22.2', '4.5')('Mumbai', 'India', 'Fall', '27.6', '346.0')('London', 'United Kingdom', 'Fall', '10.4', '218.5')('Cairo', 'Egypt', 'Fall', '22.2', '4.5')('Cairo', 'Egypt', 'Fall', '22.2', '4.5')('Cairo', 'Egypt', 'Fall', '22.2', '4.5')('Cairo', 'Egypt', 'Fall', '22.2', '4.5')('Mumbai', 'India', 'Fall', '27.6', '346.0')('London', 'United Kingdom', 'Fall', '10.4', '218.5')('Cairo', 'Egypt', 'Fall', '22.2', '4.5')('Mumbai', 'India', 'Fall', '27.6', '346.0')('London', 'United Kingdom', 'Fall', '10.4', '218.5')('Cairo', 'Egypt', 'Fall', '22.2', '4.5')('Mumbai', 'India', 'Fall', '27.6', '346.0')('London', 'United Kingdom', 'Fall', '10.4', '218.5')('Cairo', 'Egypt', 'Fall', '22.2', '4.5')('Mumbai', 'India', 'Fall', '27.6', '346.0')('London', 'United Kingdom', 'Fall', '10.4', '218.5')('Cairo', 'Egypt', 'Fall', '22.2', '4.5')('Cairo', 'Egypt', 'Fall', '22.2', '4.5')('Mumbai', 'India', 'Fall', '27.6', '346.0')('London', 'United Kingdom', 'Fall', '10.4', '218.5')('Cairo', 'Egypt', 'Fall', '22.2', '4.5')('Mumbai', 'India', 'Fall', '27.6', '346.0')('London', 'United Kingdom', 'Fall', '10.4', '218.5')('Cairo', 'Egypt', 'Fall', '22.2', '4.5')('Mumbai', 'India', 'Fall', '27.6', '346.0')('London', 'United Kingdom', 'Fall', '10.4', '218.5')('Cairo', 'Egypt', 'Fall', '22.2', '4.5')('Mumbai', 'India', 'Fall', '27.6', '346.0')('London', 'United Kingdom', 'Fall', '10.4', '218.5')('Cairo', 'Egypt', 'Fall', '22.2', '4.5')('Cairo', 'Egypt', 'Fall', '22.2', '4.5')\n",
      "('Cairo', 'Egypt', 'Fall')('Mumbai', 'India', 'Fall')('London', 'United Kingdom', 'Winter')('London', 'United Kingdom', 'Fall')('Cairo', 'Egypt', 'Fall')('Cairo', 'Egypt', 'Fall')('Cairo', 'Egypt', 'Fall')('Cairo', 'Egypt', 'Fall')('Mumbai', 'India', 'Fall')('London', 'United Kingdom', 'Winter')('London', 'United Kingdom', 'Fall')('Cairo', 'Egypt', 'Fall')('Mumbai', 'India', 'Fall')('London', 'United Kingdom', 'Winter')('London', 'United Kingdom', 'Fall')('Cairo', 'Egypt', 'Fall')('Mumbai', 'India', 'Fall')('London', 'United Kingdom', 'Winter')('London', 'United Kingdom', 'Fall')('Cairo', 'Egypt', 'Fall')('Mumbai', 'India', 'Fall')('London', 'United Kingdom', 'Winter')('London', 'United Kingdom', 'Fall')('Cairo', 'Egypt', 'Fall')('Cairo', 'Egypt', 'Fall')('Mumbai', 'India', 'Fall')('London', 'United Kingdom', 'Winter')('London', 'United Kingdom', 'Fall')('Cairo', 'Egypt', 'Fall')('Mumbai', 'India', 'Fall')('London', 'United Kingdom', 'Winter')('London', 'United Kingdom', 'Fall')('Cairo', 'Egypt', 'Fall')('Mumbai', 'India', 'Fall')('London', 'United Kingdom', 'Winter')('London', 'United Kingdom', 'Fall')('Cairo', 'Egypt', 'Fall')('Mumbai', 'India', 'Fall')('London', 'United Kingdom', 'Winter')('London', 'United Kingdom', 'Fall')('Cairo', 'Egypt', 'Fall')('Cairo', 'Egypt', 'Fall')\n",
      "('Cairo', 'Egypt')('Cairo', 'Egypt')('Cairo', 'Egypt')('Cairo', 'Egypt')('Cairo', 'Egypt')('Cairo', 'Egypt')('Cairo', 'Egypt')('Cairo', 'Egypt')('Cairo', 'Egypt')('Cairo', 'Egypt')('Cairo', 'Egypt')('Cairo', 'Egypt')('Cairo', 'Egypt')('Cairo', 'Egypt')('Cairo', 'Egypt')('Mumbai', 'India')('Mumbai', 'India')('Mumbai', 'India')('Mumbai', 'India')('Mumbai', 'India')('Mumbai', 'India')('Mumbai', 'India')('Mumbai', 'India')('Mumbai', 'India')\n",
      "(275.4,)\n",
      "('Fall', 5148.0)('Spring', 1730.7)('Summer', 15358.5)('Winter', 2070.9)"
     ]
    }
   ],
   "source": [
    "sqlite_conn_cur_tup[1].execute(\"SELECT temperature from weatherTable\")\n",
    "my_result =sqlite_conn_cur_tup[1].fetchall()             #part a\n",
    "for x in my_result:\n",
    "  print(x, end=\"\")\n",
    "\n",
    "print()\n",
    "sqlite_conn_cur_tup[1].execute(\"SELECT DISTINCT(city) from weatherTable\")\n",
    "my_result = sqlite_conn_cur_tup[1].fetchall()\n",
    "for x in my_result:                          #part b\n",
    "  print(x, end=\"\")\n",
    "\n",
    "print()\n",
    "sqlite_conn_cur_tup[1].execute(\"SELECT * from weatherTable where country = 'India'\")\n",
    "my_result = sqlite_conn_cur_tup[1].fetchall()\n",
    "for x in my_result:                             #part c\n",
    "  print(x, end=\"\")\n",
    "\n",
    "print()\n",
    "sqlite_conn_cur_tup[1].execute(\"SELECT * from weatherTable where season = 'Fall'\")\n",
    "my_result = sqlite_conn_cur_tup[1].fetchall()\n",
    "for x in my_result:                             #part d\n",
    "  print(x, end=\"\")\n",
    "\n",
    "print()\n",
    "sqlite_conn_cur_tup[1].execute(\"SELECT city,country,season from weatherTable where rainfall BETWEEN 200 and 400\")\n",
    "my_result = sqlite_conn_cur_tup[1].fetchall()\n",
    "for x in my_result:                                 #part e\n",
    "  print(x, end=\"\")\n",
    "\n",
    "print()\n",
    "sqlite_conn_cur_tup[1].execute(\"SELECT city,country from weatherTable where (season = 'Fall' and temperature > 20) Order BY temperature ASC \")\n",
    "my_result = sqlite_conn_cur_tup[1].fetchall()\n",
    "for x in my_result:                                #part f\n",
    "  print(x, end=\"\")\n",
    "\n",
    "print()\n",
    "sqlite_conn_cur_tup[1].execute(\"SELECT sum(rainfall) from weatherTable where city = 'Cairo'\")\n",
    "my_result = sqlite_conn_cur_tup[1].fetchall()\n",
    "for x in my_result:\n",
    "  print(x, end=\"\")                                      #part g\n",
    "\n",
    "print()\n",
    "sqlite_conn_cur_tup[1].execute(\"SELECT season, sum(rainfall) from weatherTable group by season\")\n",
    "my_result = sqlite_conn_cur_tup[1].fetchall()\n",
    "for x in my_result:                                   #part h\n",
    "  print(x, end=\"\")\n",
    "\n",
    "sqlite_conn_cur_tup[0].close()"
   ]
  },
  {
   "cell_type": "markdown",
   "metadata": {},
   "source": [
    "Sql Commands required:\n",
    "\n",
    "> select Temperature from weatherTable\n",
    "\n",
    "> select DISTINCT City from weatherTable\n",
    "\n",
    "> select * from weatherTable where Country='India'\n",
    "\n",
    "> select * from weatherTable where Season='Fall'\n",
    "\n",
    "> SELECT  City, Country, Season, AVG(Rainfall) FROM weatherTable \n",
    "    GROUP BY Rainfall\n",
    "    Having AVG(Rainfall) BETWEEN 200 AND 400;\n",
    "\n",
    "> select City, Country, AVG(Temperature) FROM weatherTable\n",
    "    WHERE Season = 'Fall'  \n",
    "    group by Temperature\n",
    "    HAVING AVG(Temperature) > 20\n",
    "    ORDER BY AVG(Temperature) ASC;\n",
    "\n",
    "> select City, SUM(Rainfall) FROM weatherTable where City='Cairo'\n",
    "\n",
    "> select Season, SUM(Rainfall) FROM weatherTable\n",
    "    group by Season\n",
    "    "
   ]
  },
  {
   "cell_type": "markdown",
   "metadata": {},
   "source": [
    "Question 9: Write list comprehensions expressions that use list words and generate the following lists:"
   ]
  },
  {
   "cell_type": "code",
   "execution_count": 25,
   "metadata": {},
   "outputs": [
    {
     "name": "stdout",
     "output_type": "stream",
     "text": [
      "['THE', 'QUICK', 'BROWN', 'FOX', 'JUMPS', 'OVER', 'THE', 'LAZY', 'DOG']\n",
      "\n",
      "\n",
      "['the', 'quick', 'brown', 'fox', 'jumps', 'over', 'the', 'lazy', 'dog']\n",
      "\n",
      "\n",
      "[3, 5, 5, 3, 5, 4, 3, 4, 3]\n",
      "\n",
      "\n",
      "[['THE', 'the', 3], ['QUICK', 'quick', 5], ['BROWN', 'brown', 5], ['FOX', 'fox', 3], ['JUMPS', 'jumps', 5], ['OVER', 'over', 4], ['THE', 'the', 3], ['LAZY', 'lazy', 4], ['DOG', 'dog', 3]]\n",
      "\n",
      "\n",
      "['quick', 'brown', 'jumps', 'over', 'lazy']\n"
     ]
    }
   ],
   "source": [
    "words = [\"The\", \"quick\", \"brown\", \"fox\", \"jumps\", \"over\", \"the\", \"lazy\", \"dog\"]\n",
    "\n",
    "# a) Convert words into upper case\n",
    "words_upper_case = [word.upper() for word in words]\n",
    "print(words_upper_case)\n",
    "print(\"\\n\")\n",
    "\n",
    "\n",
    "# b) Convert words into lower case\n",
    "\n",
    "lower_case_words = [word.lower() for word in words]\n",
    "print(lower_case_words)\n",
    "print(\"\\n\")\n",
    "\n",
    "\n",
    "# c) the list of length of words in list words\n",
    "\n",
    "wordsLength = []\n",
    "for single_letter in words:\n",
    "    wordsLength.append(len(single_letter))     \n",
    "print(wordsLength)\n",
    "print(\"\\n\")\n",
    "\n",
    "\n",
    "# d) the list containing a list for every word of list words, where each list contains the word in uppercase and lowercase and \n",
    "# the length of the word\n",
    "\n",
    "init_count_val = 0\n",
    "single_list = []\n",
    "    \n",
    "for i in words:\n",
    "    single_list.append(words_upper_case[init_count_val])\n",
    "    single_list.append(lower_case_words[init_count_val])\n",
    "    single_list.append(wordsLength[init_count_val])\n",
    "    init_count_val = init_count_val + 1\n",
    "\n",
    "del_var_limit = 3\n",
    "final_list = [single_list[additor:additor+del_var_limit] for additor in range(0, len(single_list), del_var_limit)]\n",
    "print(final_list)\n",
    "print(\"\\n\")\n",
    "\n",
    "# e) the list of words in list words containing 4 or more characters\n",
    "\n",
    "def get_word_string(k, str):    \n",
    "    string_list = []     \n",
    "    text = str.split(\" \")     \n",
    "    for x in text:         \n",
    "        if len(x) >= k:            \n",
    "            string_list.append(x)             \n",
    "    return string_list\n",
    "    \n",
    "result_list = [''.join([str(c) for c in lst]) for lst in words]\n",
    "result_string = ' '.join(result_list)\n",
    "requiredCharacterLength = 4\n",
    "print(get_word_string(requiredCharacterLength, result_string))"
   ]
  },
  {
   "cell_type": "code",
   "execution_count": null,
   "metadata": {},
   "outputs": [],
   "source": []
  }
 ],
 "metadata": {
  "kernelspec": {
   "display_name": "Python 3.10.8 64-bit",
   "language": "python",
   "name": "python3"
  },
  "language_info": {
   "codemirror_mode": {
    "name": "ipython",
    "version": 3
   },
   "file_extension": ".py",
   "mimetype": "text/x-python",
   "name": "python",
   "nbconvert_exporter": "python",
   "pygments_lexer": "ipython3",
   "version": "3.10.8"
  },
  "orig_nbformat": 4,
  "vscode": {
   "interpreter": {
    "hash": "b0fa6594d8f4cbf19f97940f81e996739fb7646882a419484c72d19e05852a7e"
   }
  }
 },
 "nbformat": 4,
 "nbformat_minor": 2
}
